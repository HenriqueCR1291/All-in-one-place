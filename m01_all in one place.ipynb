{
 "cells": [
  {
   "cell_type": "code",
   "execution_count": 237,
   "metadata": {
    "ExecuteTime": {
     "end_time": "2022-01-05T01:19:41.704186Z",
     "start_time": "2022-01-05T01:16:26.334107Z"
    }
   },
   "outputs": [
    {
     "name": "stdout",
     "output_type": "stream",
     "text": [
      "Collecting yellowbrick\n",
      "  Downloading yellowbrick-1.3.post1-py3-none-any.whl (271 kB)\n",
      "Requirement already satisfied: numpy<1.20,>=1.16.0 in c:\\users\\henrique\\anaconda3\\lib\\site-packages (from yellowbrick) (1.19.2)\n",
      "Requirement already satisfied: cycler>=0.10.0 in c:\\users\\henrique\\anaconda3\\lib\\site-packages (from yellowbrick) (0.10.0)\n",
      "Requirement already satisfied: scikit-learn>=0.20 in c:\\users\\henrique\\anaconda3\\lib\\site-packages (from yellowbrick) (0.24.2)\n",
      "Requirement already satisfied: scipy>=1.0.0 in c:\\users\\henrique\\anaconda3\\lib\\site-packages (from yellowbrick) (1.5.2)\n",
      "Requirement already satisfied: matplotlib!=3.0.0,>=2.0.2 in c:\\users\\henrique\\anaconda3\\lib\\site-packages (from yellowbrick) (3.3.2)\n",
      "Requirement already satisfied: six in c:\\users\\henrique\\anaconda3\\lib\\site-packages (from cycler>=0.10.0->yellowbrick) (1.15.0)\n",
      "Requirement already satisfied: threadpoolctl>=2.0.0 in c:\\users\\henrique\\anaconda3\\lib\\site-packages (from scikit-learn>=0.20->yellowbrick) (2.1.0)\n",
      "Requirement already satisfied: joblib>=0.11 in c:\\users\\henrique\\anaconda3\\lib\\site-packages (from scikit-learn>=0.20->yellowbrick) (0.17.0)\n",
      "Requirement already satisfied: certifi>=2020.06.20 in c:\\users\\henrique\\anaconda3\\lib\\site-packages (from matplotlib!=3.0.0,>=2.0.2->yellowbrick) (2021.10.8)\n",
      "Requirement already satisfied: pyparsing!=2.0.4,!=2.1.2,!=2.1.6,>=2.0.3 in c:\\users\\henrique\\anaconda3\\lib\\site-packages (from matplotlib!=3.0.0,>=2.0.2->yellowbrick) (2.4.7)\n",
      "Requirement already satisfied: python-dateutil>=2.1 in c:\\users\\henrique\\anaconda3\\lib\\site-packages (from matplotlib!=3.0.0,>=2.0.2->yellowbrick) (2.8.1)\n",
      "Requirement already satisfied: pillow>=6.2.0 in c:\\users\\henrique\\anaconda3\\lib\\site-packages (from matplotlib!=3.0.0,>=2.0.2->yellowbrick) (8.0.1)\n",
      "Requirement already satisfied: kiwisolver>=1.0.1 in c:\\users\\henrique\\anaconda3\\lib\\site-packages (from matplotlib!=3.0.0,>=2.0.2->yellowbrick) (1.3.0)\n",
      "Installing collected packages: yellowbrick\n",
      "Successfully installed yellowbrick-1.3.post1\n"
     ]
    }
   ],
   "source": [
    "#pip install cookiecutter\n",
    "!pip install yellowbrick"
   ]
  },
  {
   "cell_type": "markdown",
   "metadata": {
    "ExecuteTime": {
     "end_time": "2021-12-14T23:40:39.890952Z",
     "start_time": "2021-12-14T23:40:39.875960Z"
    }
   },
   "source": [
    "# Solution Planning"
   ]
  },
  {
   "cell_type": "code",
   "execution_count": 212,
   "metadata": {
    "ExecuteTime": {
     "end_time": "2022-01-05T01:05:58.016363Z",
     "start_time": "2022-01-05T01:05:57.859276Z"
    }
   },
   "outputs": [],
   "source": [
    "# Input"
   ]
  },
  {
   "cell_type": "markdown",
   "metadata": {
    "ExecuteTime": {
     "end_time": "2021-12-16T22:56:32.009807Z",
     "start_time": "2021-12-16T22:56:31.950759Z"
    }
   },
   "source": [
    "1. Business Problem\n",
    "\n",
    "    Selecting the most valuable customers to join a fidelization program"
   ]
  },
  {
   "cell_type": "markdown",
   "metadata": {
    "ExecuteTime": {
     "end_time": "2021-12-16T22:56:32.199487Z",
     "start_time": "2021-12-16T22:56:32.122306Z"
    }
   },
   "source": [
    "2. Data\n",
    "\n",
    "    E-commerce sales during a year"
   ]
  },
  {
   "cell_type": "code",
   "execution_count": 213,
   "metadata": {
    "ExecuteTime": {
     "end_time": "2022-01-05T01:05:58.156243Z",
     "start_time": "2022-01-05T01:05:58.018354Z"
    }
   },
   "outputs": [],
   "source": [
    "# Output"
   ]
  },
  {
   "cell_type": "markdown",
   "metadata": {
    "ExecuteTime": {
     "end_time": "2021-12-16T22:56:32.543906Z",
     "start_time": "2021-12-16T22:56:32.459776Z"
    }
   },
   "source": [
    "1. List of customer will be part of insider program\n",
    "\n",
    "    client_id  |  is_insider\n",
    "     10323     |  yes"
   ]
  },
  {
   "cell_type": "code",
   "execution_count": 214,
   "metadata": {
    "ExecuteTime": {
     "end_time": "2022-01-05T01:05:58.282979Z",
     "start_time": "2022-01-05T01:05:58.158247Z"
    }
   },
   "outputs": [],
   "source": [
    "# Task"
   ]
  },
  {
   "cell_type": "markdown",
   "metadata": {},
   "source": [
    "1. Quem são as pessoas elegíveis para participar do programa de Insiders ?\n",
    "    - O que é ser elegivel? O que são clientes de maior 'valor'?\n",
    "    - Faturamento:\n",
    "        - Alto Ticket Médio\n",
    "        - Alto LTV\n",
    "        - Baixa recência\n",
    "        - Alto basket size\n",
    "        - Baixa probabilidade de churn\n",
    "        - Alta previsão de LTV\n",
    "        - Alta propensão de compra\n",
    "        \n",
    "    - Custo:\n",
    "        - Baixa taxa de devolução\n",
    "        \n",
    "    - Experiencia de compra:\n",
    "        - Média alta das avaliações\n",
    "        \n",
    "2. Quantos clientes farão parte do grupo?\n",
    "    - Número total de clientes\n",
    "    - % do grupo insiders\n",
    "    \n",
    "3. Quais as principais características desses clientes ?\n",
    "    - Escrever características dos clientes:\n",
    "        - Idade\n",
    "        - Localização\n",
    "        \n",
    "    - Escrever características do consumo\n",
    "        - Atributos de clusterizaçao\n",
    "\n",
    "4. Qual a porcentagem de contribuição do faturamento, vinda do Insiders ?\n",
    "    - Faturamento total do ano\n",
    "    - Faturamento do grupo Insiders\n",
    "    \n",
    "    \n",
    "5. Qual a expectativa de faturamento desse grupo para os próximos meses ?\n",
    "    - LTV do grupo Insiders\n",
    "    - Análise Cohort\n",
    "    \n",
    "6. Quais as condições para uma pessoa ser elegível ao Insiders ?\n",
    "    - Definir a periodicidade (1 mes, 3 meses)\n",
    "    - A pessoa precisa ser similar ou parecido com uma pessoa grupo\n",
    "        \n",
    "7. Quais as condições para uma pessoa ser removida do Insiders ?\n",
    "    - Definir a periodicidade (1 mes, 3 meses)\n",
    "    - A pessoa nao é ser similar ou parecido com uma pessoa grupo\n",
    "    \n",
    "8. Qual a garantia que o programa Insiders é melhor que o restante da base ?\n",
    "    - Teste A/B\n",
    "    - Teste A/B Bayesiano\n",
    "    - Teste de hipóteses\n",
    "    \n",
    "9. Quais ações o time de marketing pode realizar para aumentar o faturamento?\n",
    "    - Desconto\n",
    "    - Preferencia de compra\n",
    "    - Visita a empresa"
   ]
  },
  {
   "cell_type": "markdown",
   "metadata": {
    "ExecuteTime": {
     "end_time": "2021-12-16T22:56:33.008405Z",
     "start_time": "2021-12-16T22:56:32.989260Z"
    }
   },
   "source": [
    "Benchmark de soluções"
   ]
  },
  {
   "cell_type": "markdown",
   "metadata": {},
   "source": [
    "# Imports"
   ]
  },
  {
   "cell_type": "code",
   "execution_count": 215,
   "metadata": {
    "ExecuteTime": {
     "end_time": "2022-01-05T01:05:58.472336Z",
     "start_time": "2022-01-05T01:05:58.285972Z"
    }
   },
   "outputs": [],
   "source": [
    "import numpy as np\n",
    "import pandas as pd\n",
    "import seaborn as sns\n",
    "\n",
    "from matplotlib import pyplot as plt\n",
    "from sklearn import cluster as c"
   ]
  },
  {
   "cell_type": "markdown",
   "metadata": {},
   "source": [
    "# Helper Functions"
   ]
  },
  {
   "cell_type": "code",
   "execution_count": null,
   "metadata": {},
   "outputs": [],
   "source": []
  },
  {
   "cell_type": "markdown",
   "metadata": {},
   "source": [
    "# Data Import"
   ]
  },
  {
   "cell_type": "code",
   "execution_count": 216,
   "metadata": {
    "ExecuteTime": {
     "end_time": "2022-01-05T01:05:59.422490Z",
     "start_time": "2022-01-05T01:05:58.474339Z"
    }
   },
   "outputs": [],
   "source": [
    "#load data\n",
    "df = pd.read_csv('Ecommerce.csv',encoding=\"ISO-8859-1\")\n",
    "\n",
    "#drop\n",
    "df = df.drop(columns=['Unnamed: 8'], axis=1)"
   ]
  },
  {
   "cell_type": "markdown",
   "metadata": {},
   "source": [
    "# 1.0 Data Description"
   ]
  },
  {
   "cell_type": "code",
   "execution_count": 217,
   "metadata": {
    "ExecuteTime": {
     "end_time": "2022-01-05T01:05:59.470500Z",
     "start_time": "2022-01-05T01:05:59.424496Z"
    }
   },
   "outputs": [],
   "source": [
    "df1 = df.copy()"
   ]
  },
  {
   "cell_type": "markdown",
   "metadata": {},
   "source": [
    "## 1.1. Rename Columns "
   ]
  },
  {
   "cell_type": "code",
   "execution_count": 218,
   "metadata": {
    "ExecuteTime": {
     "end_time": "2022-01-05T01:05:59.597397Z",
     "start_time": "2022-01-05T01:05:59.474496Z"
    }
   },
   "outputs": [],
   "source": [
    "cols_new = df1.columns\n",
    "\n",
    "cols_new = ['invoice_no', 'stock_code', 'description', 'quantity', 'invoice_date',\n",
    "       'unit_price', 'customer_id', 'country']\n",
    "\n",
    "df1.columns = cols_new"
   ]
  },
  {
   "cell_type": "markdown",
   "metadata": {},
   "source": [
    "## 1.2. Data Dimensions"
   ]
  },
  {
   "cell_type": "code",
   "execution_count": 219,
   "metadata": {
    "ExecuteTime": {
     "end_time": "2022-01-05T01:05:59.753218Z",
     "start_time": "2022-01-05T01:05:59.600403Z"
    }
   },
   "outputs": [
    {
     "name": "stdout",
     "output_type": "stream",
     "text": [
      "Number of columns:  8\n",
      "Number of rows:  541909\n"
     ]
    }
   ],
   "source": [
    "print('Number of columns: ', df1.shape[1])\n",
    "print('Number of rows: ', df1.shape[0])"
   ]
  },
  {
   "cell_type": "markdown",
   "metadata": {},
   "source": [
    "## 1.3. Data Type"
   ]
  },
  {
   "cell_type": "code",
   "execution_count": 220,
   "metadata": {
    "ExecuteTime": {
     "end_time": "2022-01-05T01:06:00.050280Z",
     "start_time": "2022-01-05T01:05:59.756216Z"
    }
   },
   "outputs": [
    {
     "data": {
      "text/plain": [
       "invoice_no       object\n",
       "stock_code       object\n",
       "description      object\n",
       "quantity          int64\n",
       "invoice_date     object\n",
       "unit_price      float64\n",
       "customer_id     float64\n",
       "country          object\n",
       "dtype: object"
      ]
     },
     "execution_count": 220,
     "metadata": {},
     "output_type": "execute_result"
    }
   ],
   "source": [
    "df1.dtypes"
   ]
  },
  {
   "cell_type": "markdown",
   "metadata": {},
   "source": [
    "## 1.4. NA Check"
   ]
  },
  {
   "cell_type": "code",
   "execution_count": 221,
   "metadata": {
    "ExecuteTime": {
     "end_time": "2022-01-05T01:06:00.320362Z",
     "start_time": "2022-01-05T01:06:00.052276Z"
    }
   },
   "outputs": [
    {
     "data": {
      "text/plain": [
       "invoice_no           0\n",
       "stock_code           0\n",
       "description       1454\n",
       "quantity             0\n",
       "invoice_date         0\n",
       "unit_price           0\n",
       "customer_id     135080\n",
       "country              0\n",
       "dtype: int64"
      ]
     },
     "execution_count": 221,
     "metadata": {},
     "output_type": "execute_result"
    }
   ],
   "source": [
    "df1.isna().sum()"
   ]
  },
  {
   "cell_type": "markdown",
   "metadata": {},
   "source": [
    "## 1.5. Replace NA"
   ]
  },
  {
   "cell_type": "code",
   "execution_count": 222,
   "metadata": {
    "ExecuteTime": {
     "end_time": "2022-01-05T01:06:00.576024Z",
     "start_time": "2022-01-05T01:06:00.322358Z"
    }
   },
   "outputs": [
    {
     "name": "stdout",
     "output_type": "stream",
     "text": [
      "% dataset removed: 0.25\n"
     ]
    }
   ],
   "source": [
    "df1 = df1.dropna(subset=['description', 'customer_id'])\n",
    "print('% dataset removed: {:.2f}'.format(1 - (df1.shape[0]/df.shape[0])))"
   ]
  },
  {
   "cell_type": "markdown",
   "metadata": {},
   "source": [
    "## 1.6. Change Types"
   ]
  },
  {
   "cell_type": "code",
   "execution_count": 223,
   "metadata": {
    "ExecuteTime": {
     "end_time": "2022-01-05T01:06:00.654975Z",
     "start_time": "2022-01-05T01:06:00.578023Z"
    }
   },
   "outputs": [],
   "source": [
    "#df1['invoice_no'] = df1['invoice_no'].replace(to_replace='\\D', value='', regex=True)\n",
    "#df1['stock_code'] = df1['stock_code'].replace(to_replace='\\D', value='0', regex=True)"
   ]
  },
  {
   "cell_type": "code",
   "execution_count": 224,
   "metadata": {
    "ExecuteTime": {
     "end_time": "2022-01-05T01:06:00.812745Z",
     "start_time": "2022-01-05T01:06:00.656973Z"
    }
   },
   "outputs": [],
   "source": [
    "#df1.loc[df1['stock_code'] == '85123A']\n",
    "#df1 = df1.replace(['C536383','C536379','C536391','C536506'],['536383','536379','536391','536506'])"
   ]
  },
  {
   "cell_type": "code",
   "execution_count": 225,
   "metadata": {
    "ExecuteTime": {
     "end_time": "2022-01-05T01:06:01.140775Z",
     "start_time": "2022-01-05T01:06:00.814747Z"
    }
   },
   "outputs": [],
   "source": [
    "#invoice data\n",
    "df1['invoice_date'] = pd.to_datetime(df1['invoice_date'], format= '%d-%b-%y')\n",
    "\n",
    "#customer id\n",
    "df1['customer_id'] = df1['customer_id'].astype(int)\n",
    "\n",
    "#invoice no\n",
    "#df1['invoice_no'] = df1['invoice_no'].astype(int)\n",
    "\n",
    "#stock code\n",
    "#df1['stock_code'] = df1['stock_code'].astype(int)"
   ]
  },
  {
   "cell_type": "markdown",
   "metadata": {},
   "source": [
    "## 1.7. Descriptive Statistics"
   ]
  },
  {
   "cell_type": "code",
   "execution_count": null,
   "metadata": {},
   "outputs": [],
   "source": []
  },
  {
   "cell_type": "markdown",
   "metadata": {},
   "source": [
    "# 2.0 Feature Engineering"
   ]
  },
  {
   "cell_type": "code",
   "execution_count": 226,
   "metadata": {
    "ExecuteTime": {
     "end_time": "2022-01-05T01:06:01.236481Z",
     "start_time": "2022-01-05T01:06:01.142776Z"
    }
   },
   "outputs": [],
   "source": [
    "df2 = df1.copy()"
   ]
  },
  {
   "cell_type": "markdown",
   "metadata": {},
   "source": [
    "## 2.1. Feature Creation"
   ]
  },
  {
   "cell_type": "code",
   "execution_count": 227,
   "metadata": {
    "ExecuteTime": {
     "end_time": "2022-01-05T01:06:01.632236Z",
     "start_time": "2022-01-05T01:06:01.238481Z"
    }
   },
   "outputs": [],
   "source": [
    "df_ref = df2.drop(['invoice_no', 'stock_code', 'description', 'quantity',\n",
    "              'invoice_date', 'unit_price', 'country'], axis=1).drop_duplicates(ignore_index=True)\n",
    "\n",
    "#gross revenue\n",
    "df2['gross_revenue'] = df2['quantity']*df2['unit_price']\n",
    "\n",
    "#monetary\n",
    "df_monetary = df2[['customer_id', 'gross_revenue']].groupby('customer_id').sum().reset_index()\n",
    "df_ref = pd.merge(df_ref, df_monetary, on='customer_id', how='left')\n",
    "\n",
    "#recency\n",
    "df_recency = df2[['customer_id', 'invoice_date']].groupby('customer_id').max().reset_index()\n",
    "df_recency['recency_days'] = (df2['invoice_date'].max() - df_recency['invoice_date']).dt.days\n",
    "df_recency = df_recency[['customer_id', 'recency_days']].copy()\n",
    "df_ref = pd.merge(df_ref, df_recency, on='customer_id', how='left')\n",
    "\n",
    "#frequency\n",
    "df_freq = df2[['customer_id','invoice_no']].drop_duplicates().groupby('customer_id').count().reset_index()\n",
    "df_ref = pd.merge(df_ref, df_freq, on='customer_id', how='left')"
   ]
  },
  {
   "cell_type": "markdown",
   "metadata": {},
   "source": [
    "# 3.0 Variable Filtering"
   ]
  },
  {
   "cell_type": "code",
   "execution_count": 228,
   "metadata": {
    "ExecuteTime": {
     "end_time": "2022-01-05T01:06:01.648225Z",
     "start_time": "2022-01-05T01:06:01.634236Z"
    }
   },
   "outputs": [],
   "source": [
    "df3 = df_ref.copy()"
   ]
  },
  {
   "cell_type": "markdown",
   "metadata": {},
   "source": [
    "# 4.0 EDA"
   ]
  },
  {
   "cell_type": "code",
   "execution_count": 229,
   "metadata": {
    "ExecuteTime": {
     "end_time": "2022-01-05T01:06:01.839004Z",
     "start_time": "2022-01-05T01:06:01.650224Z"
    }
   },
   "outputs": [],
   "source": [
    "df4 = df3.copy()"
   ]
  },
  {
   "cell_type": "markdown",
   "metadata": {},
   "source": [
    "# 5.0 Data Preparation"
   ]
  },
  {
   "cell_type": "code",
   "execution_count": 230,
   "metadata": {
    "ExecuteTime": {
     "end_time": "2022-01-05T01:06:01.962924Z",
     "start_time": "2022-01-05T01:06:01.841001Z"
    }
   },
   "outputs": [],
   "source": [
    "df5 = df4.copy()"
   ]
  },
  {
   "cell_type": "markdown",
   "metadata": {},
   "source": [
    "# 6.0 Feature Selection"
   ]
  },
  {
   "cell_type": "code",
   "execution_count": 231,
   "metadata": {
    "ExecuteTime": {
     "end_time": "2022-01-05T01:06:02.153849Z",
     "start_time": "2022-01-05T01:06:01.964922Z"
    }
   },
   "outputs": [],
   "source": [
    "df6 = df5.copy()"
   ]
  },
  {
   "cell_type": "markdown",
   "metadata": {},
   "source": [
    "# 7.0 Hyperparameter Fine-Tuning"
   ]
  },
  {
   "cell_type": "code",
   "execution_count": 232,
   "metadata": {
    "ExecuteTime": {
     "end_time": "2022-01-05T01:06:02.311908Z",
     "start_time": "2022-01-05T01:06:02.157845Z"
    }
   },
   "outputs": [],
   "source": [
    "X = df6.drop(columns = 'customer_id')\n",
    "\n",
    "clusters = [2, 3, 4, 5, 6, 7, 8]"
   ]
  },
  {
   "cell_type": "markdown",
   "metadata": {},
   "source": [
    "## 7.1 Within-Cluster Sum of Square (WSS)"
   ]
  },
  {
   "cell_type": "code",
   "execution_count": 234,
   "metadata": {
    "ExecuteTime": {
     "end_time": "2022-01-05T01:06:55.548211Z",
     "start_time": "2022-01-05T01:06:51.590141Z"
    }
   },
   "outputs": [
    {
     "data": {
      "image/png": "[encoded data removed]",
      "text/plain": [
       "<Figure size 432x288 with 1 Axes>"
      ]
     },
     "metadata": {
      "needs_background": "light"
     },
     "output_type": "display_data"
    }
   ],
   "source": [
    "wss = []\n",
    "for k in clusters:\n",
    "    #model\n",
    "    kmeans = c.KMeans(init='random', n_clusters=k, n_init=10, max_iter=300, random_state=42)\n",
    "    \n",
    "    #model training\n",
    "    kmeans.fit(X)\n",
    "    \n",
    "    #validation\n",
    "    wss.append(kmeans.inertia_)\n",
    "\n",
    "#plot wss - Elbow Method\n",
    "plt.plot(clusters, wss, linestyle='--', marker='o', color='b')\n",
    "plt.xlabel('K');\n",
    "plt.ylabel('Within-CLuster Sum of Square');\n",
    "plt.title('WSS vs K');"
   ]
  },
  {
   "cell_type": "code",
   "execution_count": 238,
   "metadata": {
    "ExecuteTime": {
     "end_time": "2022-01-05T01:21:09.506939Z",
     "start_time": "2022-01-05T01:21:04.581301Z"
    }
   },
   "outputs": [
    {
     "data": {
      "image/png": "[encoded data removed]",
      "text/plain": [
       "<Figure size 576x396 with 1 Axes>"
      ]
     },
     "metadata": {},
     "output_type": "display_data"
    },
    {
     "data": {
      "text/plain": [
       "<AxesSubplot:title={'center':'Distortion Score Elbow for KMeans Clustering'}, xlabel='k', ylabel='distortion score'>"
      ]
     },
     "execution_count": 238,
     "metadata": {},
     "output_type": "execute_result"
    }
   ],
   "source": [
    "from yellowbrick.cluster import KElbowVisualizer\n",
    "\n",
    "kmeans = KElbowVisualizer(c.KMeans(), k=clusters, timings = False)\n",
    "kmeans.fit(X)\n",
    "kmeans.show()"
   ]
  },
  {
   "cell_type": "markdown",
   "metadata": {},
   "source": [
    "# 3.0 Variable Filtering"
   ]
  },
  {
   "cell_type": "markdown",
   "metadata": {},
   "source": [
    "# 3.0 Variable Filtering"
   ]
  },
  {
   "cell_type": "markdown",
   "metadata": {},
   "source": [
    "# 3.0 Variable Filtering"
   ]
  },
  {
   "cell_type": "code",
   "execution_count": null,
   "metadata": {},
   "outputs": [],
   "source": []
  },
  {
   "cell_type": "code",
   "execution_count": null,
   "metadata": {},
   "outputs": [],
   "source": []
  }
 ],
 "metadata": {
  "kernelspec": {
   "display_name": "Python 3",
   "language": "python",
   "name": "python3"
  },
  "language_info": {
   "codemirror_mode": {
    "name": "ipython",
    "version": 3
   },
   "file_extension": ".py",
   "mimetype": "text/x-python",
   "name": "python",
   "nbconvert_exporter": "python",
   "pygments_lexer": "ipython3",
   "version": "3.8.5"
  }
 },
 "nbformat": 4,
 "nbformat_minor": 4
}
